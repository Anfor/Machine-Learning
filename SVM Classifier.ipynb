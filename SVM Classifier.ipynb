{
 "cells": [
  {
   "cell_type": "code",
   "execution_count": 1,
   "metadata": {
    "collapsed": false
   },
   "outputs": [
    {
     "name": "stdout",
     "output_type": "stream",
     "text": [
      "no. of Chris training emails: 7936\n",
      "no. of Sara training emails: 7884\n"
     ]
    }
   ],
   "source": [
    "import sys\n",
    "from time import time\n",
    "sys.path.append(\"../tools/\")\n",
    "from email_preprocess import preprocess\n",
    "\n",
    "from sklearn.svm import SVC\n",
    "\n",
    "features_train, features_test, labels_train, labels_test = preprocess()"
   ]
  },
  {
   "cell_type": "code",
   "execution_count": 2,
   "metadata": {
    "collapsed": false
   },
   "outputs": [
    {
     "name": "stdout",
     "output_type": "stream",
     "text": [
      "training time: 148.084 s\n",
      "predicting time: 15.734 s\n",
      "0.984072810011\n"
     ]
    }
   ],
   "source": [
    "\n",
    "\"\"\" \n",
    "    This is the code to accompany the Lesson 2 (SVM) mini-project.\n",
    "\n",
    "    Use a SVM to identify emails from the Enron corpus by their authors:    \n",
    "    Sara has label 0\n",
    "    Chris has label 1\n",
    "\"\"\"\n",
    "    \n",
    "\n",
    "\n",
    "\n",
    "clf = SVC(kernel=\"linear\")\n",
    "t0 = time()\n",
    "clf.fit(features_train,labels_train)\n",
    "print \"training time:\", round(time()-t0, 3), \"s\"\n",
    "t1 = time()\n",
    "pred = []\n",
    "pred=clf.predict(features_test)\n",
    "print \"predicting time:\", round(time()-t1, 3), \"s\"\n",
    "from sklearn.metrics import accuracy_score\n",
    "acc = accuracy_score(pred, labels_test)\n",
    "\n",
    "print acc\n",
    "\n"
   ]
  },
  {
   "cell_type": "code",
   "execution_count": 3,
   "metadata": {
    "collapsed": false
   },
   "outputs": [
    {
     "name": "stdout",
     "output_type": "stream",
     "text": [
      "training time: 0.09 s\n",
      "predicting time: 0.897 s\n",
      "0.884527872582\n"
     ]
    }
   ],
   "source": [
    "features_train = features_train[:len(features_train)/100]# Reduce features to 1%.\n",
    "labels_train = labels_train[:len(labels_train)/100]\n",
    "clf = SVC(kernel=\"linear\")\n",
    "t0 = time()\n",
    "clf.fit(features_train,labels_train)\n",
    "print \"training time:\", round(time()-t0, 3), \"s\"\n",
    "t1 = time()\n",
    "pred = []\n",
    "pred=clf.predict(features_test)\n",
    "print \"predicting time:\", round(time()-t1, 3), \"s\"\n",
    "from sklearn.metrics import accuracy_score\n",
    "acc = accuracy_score(pred, labels_test)\n",
    "\n",
    "print acc"
   ]
  },
  {
   "cell_type": "code",
   "execution_count": 4,
   "metadata": {
    "collapsed": false
   },
   "outputs": [
    {
     "name": "stdout",
     "output_type": "stream",
     "text": [
      "training time: 0.093 s\n",
      "predicting time: 1.041 s\n",
      "0.616040955631\n"
     ]
    }
   ],
   "source": [
    "clf = SVC(kernel=\"rbf\")\n",
    "t0 = time()\n",
    "clf.fit(features_train,labels_train)\n",
    "print \"training time:\", round(time()-t0, 3), \"s\"\n",
    "t1 = time()\n",
    "pred = []\n",
    "pred=clf.predict(features_test)\n",
    "print \"predicting time:\", round(time()-t1, 3), \"s\"\n",
    "from sklearn.metrics import accuracy_score\n",
    "acc = accuracy_score(pred, labels_test)\n",
    "\n",
    "print acc\n"
   ]
  },
  {
   "cell_type": "code",
   "execution_count": 5,
   "metadata": {
    "collapsed": false
   },
   "outputs": [
    {
     "name": "stdout",
     "output_type": "stream",
     "text": [
      "Training time for C = 10 with a value of 0.10  s\n",
      "Predicting time for C = 10 with a value of 1.01  s\n",
      "For C = 10  accuracy has a value of 0.616040955631399 \n",
      "Training time for C = 100 with a value of 0.10  s\n",
      "Predicting time for C = 100 with a value of 1.01  s\n",
      "For C = 100  accuracy has a value of 0.616040955631399 \n",
      "Training time for C = 1000 with a value of 0.09  s\n",
      "Predicting time for C = 1000 with a value of 0.95  s\n",
      "For C = 1000  accuracy has a value of 0.821387940841866 \n",
      "Training time for C = 10000 with a value of 0.09  s\n",
      "Predicting time for C = 10000 with a value of 0.80  s\n",
      "For C = 10000  accuracy has a value of 0.892491467576792 \n"
     ]
    }
   ],
   "source": [
    "C_range = [10.0, 100., 1000.,10000.]\n",
    "for C in C_range:\n",
    "    clf = SVC(kernel=\"rbf\", C= C)\n",
    "    t0 = time()\n",
    "    clf.fit(features_train,labels_train)\n",
    "    print(\"Training time for C = %d with a value of %0.2f  s\" % (C, round(time()-t0, 3)))\n",
    "    t1 = time()\n",
    "    pred = []\n",
    "    pred=clf.predict(features_test)\n",
    "    print(\"Predicting time for C = %d with a value of %0.2f  s\" % (C, round(time()-t1, 3)))\n",
    "    from sklearn.metrics import accuracy_score\n",
    "    acc = accuracy_score(pred, labels_test)\n",
    "    print(\"For C = %d  accuracy has a value of %0.15f \" % (C, acc ))\n",
    "    \n",
    "\n",
    "\n"
   ]
  },
  {
   "cell_type": "code",
   "execution_count": 6,
   "metadata": {
    "collapsed": false
   },
   "outputs": [
    {
     "name": "stdout",
     "output_type": "stream",
     "text": [
      "no. of Chris training emails: 7936\n",
      "no. of Sara training emails: 7884\n",
      "training time: 99.153 s\n",
      "predicting time: 9.891 s\n",
      "0.990898748578\n"
     ]
    }
   ],
   "source": [
    "features_train, features_test, labels_train, labels_test = preprocess()\n",
    "clf = SVC(kernel=\"rbf\", C= 10000.)\n",
    "t0 = time()\n",
    "clf.fit(features_train,labels_train)\n",
    "print \"training time:\", round(time()-t0, 3), \"s\"\n",
    "t1 = time()\n",
    "pred = []\n",
    "pred=clf.predict(features_test)\n",
    "print \"predicting time:\", round(time()-t1, 3), \"s\"\n",
    "from sklearn.metrics import accuracy_score\n",
    "acc = accuracy_score(pred, labels_test)\n",
    "\n",
    "print acc"
   ]
  },
  {
   "cell_type": "code",
   "execution_count": 7,
   "metadata": {
    "collapsed": false
   },
   "outputs": [
    {
     "name": "stdout",
     "output_type": "stream",
     "text": [
      "10th element:  1 \n",
      "26th element:  0 \n",
      "50th element:  1\n"
     ]
    }
   ],
   "source": [
    "print \"10th element: \", pred[10], \\\n",
    "      \"\\n26th element: \", pred[26], \\\n",
    "      \"\\n50th element: \", pred[50]\n"
   ]
  },
  {
   "cell_type": "code",
   "execution_count": 8,
   "metadata": {
    "collapsed": false
   },
   "outputs": [
    {
     "name": "stdout",
     "output_type": "stream",
     "text": [
      "The number  predicted to be in the \"Chris\":  877\n"
     ]
    }
   ],
   "source": [
    "print \"\"\"The number  predicted to be in the \"Chris\": \"\"\", sum(pred == 1)"
   ]
  },
  {
   "cell_type": "code",
   "execution_count": null,
   "metadata": {
    "collapsed": true
   },
   "outputs": [],
   "source": []
  },
  {
   "cell_type": "code",
   "execution_count": null,
   "metadata": {
    "collapsed": true
   },
   "outputs": [],
   "source": []
  },
  {
   "cell_type": "code",
   "execution_count": null,
   "metadata": {
    "collapsed": true
   },
   "outputs": [],
   "source": []
  }
 ],
 "metadata": {
  "kernelspec": {
   "display_name": "Python 2",
   "language": "python",
   "name": "python2"
  },
  "language_info": {
   "codemirror_mode": {
    "name": "ipython",
    "version": 2
   },
   "file_extension": ".py",
   "mimetype": "text/x-python",
   "name": "python",
   "nbconvert_exporter": "python",
   "pygments_lexer": "ipython2",
   "version": "2.7.11"
  }
 },
 "nbformat": 4,
 "nbformat_minor": 0
}
